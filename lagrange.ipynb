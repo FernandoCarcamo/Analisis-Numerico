{
 "cells": [
  {
   "cell_type": "markdown",
   "metadata": {},
   "source": [
    "# Interpolación de Lagrange"
   ]
  },
  {
   "cell_type": "markdown",
   "metadata": {},
   "source": [
    "\n",
    "---\n",
    "**Entrada:** $n + 1$ números reales **diferentes** $x_{0}, x_{1}, x_{2} \\ldots ,x_{n}$ y $ n + 1$ números reales $y_{0}, y_{1}, y_{2}, \\ldots ,y_{n} $.\n",
    "\n",
    "**Salida:** Un polinomio $p_{n}$ de grado menor o igual a $n$ que cumpla la propiedad de interpolación:\n",
    "\n",
    " $$ p_{n}(x_{i}) = y_{i}$$ \n",
    " \n",
    "para $i = 0,  1, 2, \\ldots , n$.\n",
    "\n",
    "---"
   ]
  },
  {
   "cell_type": "markdown",
   "metadata": {},
   "source": [
    "## Dependencias"
   ]
  },
  {
   "cell_type": "code",
   "execution_count": 1,
   "metadata": {},
   "outputs": [],
   "source": [
    "from sympy import * # Usaremos SymPy como herramienta para realizar manipulaciones simbólicas\n",
    "\n",
    "# Las siguientes dos librerías serán utilizadas para graficar\n",
    "import matplotlib.pyplot as plt;\n",
    "import numpy as np\n",
    "\n",
    "# Usaremos lo siguiente para mostrar los polinomios de forma bonita\n",
    "from sympy.interactive import printing;\n",
    "printing.init_printing(use_latex=True);\n",
    "from IPython.display import display, Latex"
   ]
  },
  {
   "cell_type": "markdown",
   "metadata": {},
   "source": [
    "Ahora declaramos $\\texttt{x}$ como un símbolo, que representará nuestra variable en el polinomio."
   ]
  },
  {
   "cell_type": "code",
   "execution_count": 2,
   "metadata": {},
   "outputs": [],
   "source": [
    "x = Symbol('x')"
   ]
  },
  {
   "cell_type": "markdown",
   "metadata": {},
   "source": [
    "Como ejercicio, vamos a construir el polinomio cuadrático de Lagrange para la función $\\sin(\\pi x)$ con nodos $x_{0} = 1, x_{1} = 1.25, x_{2} = 1.6$."
   ]
  },
  {
   "cell_type": "markdown",
   "metadata": {},
   "source": [
    "## Datos de entrada"
   ]
  },
  {
   "cell_type": "code",
   "execution_count": 3,
   "metadata": {},
   "outputs": [],
   "source": [
    "def f(z):\n",
    "    return sin(pi*z)\n",
    "\n",
    "xs = [1, 1.25, 1.6]\n",
    "ys = [f(1), f(1.25), f(1.6)]"
   ]
  },
  {
   "cell_type": "markdown",
   "metadata": {},
   "source": [
    "Desarrollando la fórmula de Lagrange:\n",
    "\n",
    "$$ p_{2}(x) = \\sum_{k=0}^{2} y_{k} \\ell_{k}(x)  =  y_{0} \\ell_{0}(x)  + y_{1} \\ell_{1}(x)  +   y_{2} \\ell_{2}(x) $$\n",
    "\n",
    "donde\n",
    "\n",
    "$$\\ell_{k}(x) = \\prod_{i = 0, i \\neq k}^{2} \\frac{x - x_{i}}{x_{k} - x_{i}}. $$\n",
    "\n",
    "Así, \n",
    "\n",
    "$$ p_{2}(x) =  y_{0}  \\frac{(x - x_{1}) (x - x_{2})}{ (x_{0} - x_{1})(x_{0} - x_{2})} +  y_{1}  \\frac{(x - x_{0}) (x - x_{2})}{ (x_{1} - x_{0})(x_{1} - x_{2})} + y_{2}  \\frac{(x - x_{0}) (x - x_{1})}{ (x_{2} - x_{0})(x_{2} - x_{1})}.$$"
   ]
  },
  {
   "cell_type": "code",
   "execution_count": 4,
   "metadata": {},
   "outputs": [],
   "source": [
    "'''\n",
    "Esta función calcula la función base correspondiente. Es una traducción directa de la fórmula.\n",
    "xs: arreglo con valores en x\n",
    "degree: grado del polinomio, índice superior del producto\n",
    "k: índice de la función base \n",
    "'''    \n",
    "def lagrangeBasisFunction(xs, degree, k):\n",
    "    L = 1.0\n",
    "    for i in range(0, degree + 1):\n",
    "        if i == k:\n",
    "            continue\n",
    "        else:\n",
    "            L *= (x - xs[i])/(xs[k] - xs[i])\n",
    "    return L        \n",
    "\n",
    "'''\n",
    "Esta función calcula la combinación lineal. Es una traducción directa de la fórmula e \n",
    "invoca la función lagrangeBasisFunction para calcular las funciones base.\n",
    "xs: arreglo con valores en x\n",
    "ys: arreglo con valores en y\n",
    "degree: grado del polinomio\n",
    "'''\n",
    "def lagrangePolynomial(xs, ys, degree):\n",
    "    polynomial = 0.0;\n",
    "    for i in range(0, degree + 1):\n",
    "        polynomial += ys[i]*lagrangeBasisFunction(xs, degree, i)\n",
    "    return polynomial    "
   ]
  },
  {
   "cell_type": "markdown",
   "metadata": {},
   "source": [
    "Ahora construimos el polinomio, lo guardamos en la variable $\\texttt{pol}$ y lo mostramos, luego de hacer simplificaciones con la función $\\texttt{simplify}$ de SymPy:"
   ]
  },
  {
   "cell_type": "code",
   "execution_count": 5,
   "metadata": {},
   "outputs": [
    {
     "data": {
      "text/latex": [
       "$$ p_{2}(x) = \\left(x - 1\\right) \\left(3.55237980263124 x - 7.26890187803524\\right)$$"
      ],
      "text/plain": [
       "<IPython.core.display.Latex object>"
      ]
     },
     "metadata": {},
     "output_type": "display_data"
    }
   ],
   "source": [
    "pol = lagrangePolynomial(xs, ys, 2)\n",
    "display(Latex('$$ p_{2}(x) = '+ latex(simplify(pol.evalf())) + '$$'))"
   ]
  },
  {
   "cell_type": "markdown",
   "metadata": {},
   "source": [
    "Si deseamos evaluar algún punto en este polinomio, por ejemplo $p_{2}(1.6)$, escribimos"
   ]
  },
  {
   "cell_type": "code",
   "execution_count": 6,
   "metadata": {},
   "outputs": [
    {
     "data": {
      "image/png": "[encoded data removed]",
      "text/latex": [
       "$\\displaystyle -0.951056516295154$"
      ],
      "text/plain": [
       "-0.951056516295154"
      ]
     },
     "execution_count": 6,
     "metadata": {},
     "output_type": "execute_result"
    }
   ],
   "source": [
    "pol.subs(x, 1.6).evalf()"
   ]
  },
  {
   "cell_type": "markdown",
   "metadata": {},
   "source": [
    "Observemos que "
   ]
  },
  {
   "cell_type": "code",
   "execution_count": 8,
   "metadata": {},
   "outputs": [
    {
     "data": {
      "image/png": "[encoded data removed]",
      "text/latex": [
       "$\\displaystyle -0.951056516295154$"
      ],
      "text/plain": [
       "-0.951056516295154"
      ]
     },
     "execution_count": 8,
     "metadata": {},
     "output_type": "execute_result"
    }
   ],
   "source": [
    "f(1.6).evalf()"
   ]
  },
  {
   "cell_type": "markdown",
   "metadata": {},
   "source": [
    "Debe notarse que el polinomio de interpolación difiere de la función que aproxima, salvo en los nodos, donde es (teóricamente) igual a la función.\n",
    "\n",
    "Ahora graficamos, usando las herramientas que ofrecen la librerías $\\texttt{matplotlib}$ y $\\texttt{numpy}$:"
   ]
  },
  {
   "cell_type": "code",
   "execution_count": 9,
   "metadata": {},
   "outputs": [
    {
     "data": {
      "image/png": "[encoded data removed]",
      "text/plain": [
       "<Figure size 720x720 with 1 Axes>"
      ]
     },
     "metadata": {
      "needs_background": "light"
     },
     "output_type": "display_data"
    }
   ],
   "source": [
    "fig, ax = plt.subplots(figsize=(10, 10));\n",
    "\n",
    "lambdaf = lambdify(x, pol)\n",
    "\n",
    "xv = np.linspace(0, 2, 50);\n",
    "ax.plot(xv, lambdaf(xv), color='green');\n",
    "ax.plot(xv, np.sin(np.pi*xv), color = 'red')\n",
    "ax.scatter(xs, ys, color='blue', marker='o');\n",
    "plt.show(); "
   ]
  },
  {
   "cell_type": "markdown",
   "metadata": {},
   "source": [
    "En rojo se muestra la función $\\sin(\\pi x)$ y en verde el polinomio cuadrático de interpolación. En azul los nodos. Queda de ejercicio para el lector producir el polinomio de grado $3$ y escribir su fórmula agregando el nodo $x_{3} = 2.0$. "
   ]
  },
  {
   "cell_type": "code",
   "execution_count": null,
   "metadata": {},
   "outputs": [],
   "source": []
  }
 ],
 "metadata": {
  "kernelspec": {
   "display_name": "Python 3",
   "language": "python",
   "name": "python3"
  },
  "language_info": {
   "codemirror_mode": {
    "name": "ipython",
    "version": 3
   },
   "file_extension": ".py",
   "mimetype": "text/x-python",
   "name": "python",
   "nbconvert_exporter": "python",
   "pygments_lexer": "ipython3",
   "version": "3.8.2"
  }
 },
 "nbformat": 4,
 "nbformat_minor": 2
}
