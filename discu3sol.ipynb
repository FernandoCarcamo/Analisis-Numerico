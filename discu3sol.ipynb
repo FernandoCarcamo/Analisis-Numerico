{
 "cells": [
  {
   "cell_type": "markdown",
   "metadata": {},
   "source": [
    "# Análisis numérico\n",
    "## Discusión 3 :  solución\n",
    "\n",
    "## Método de bisección"
   ]
  },
  {
   "cell_type": "markdown",
   "metadata": {},
   "source": [
    "$\\textbf{1.a.}$ Para transformar la ecuación en un problema de encontrar raíces, simplemente buscamos que quede igualada a $0$ :\n",
    "\n",
    "$$ f(c_{f}) = 1.74 \\ln ( Re \\sqrt{c_{f}} ) - 0.4 - \\sqrt{\\frac{1}{c_{f}}} = 0 $$\n",
    "\n",
    "Para poder aplicar el método de bisección necesitamos que la función sea continua en el intervalo dado $[0.005, 0.01]$ y que tome valores de signos opuestos en ambos extremos. La continuidad la podemos deducir del hecho que la función está compuesta por funciones que son continuas en el intervalo. Para verificar los signos opuestos, definiremos la función."
   ]
  },
  {
   "cell_type": "markdown",
   "metadata": {},
   "source": [
    "### Dependencias"
   ]
  },
  {
   "cell_type": "code",
   "execution_count": 5,
   "metadata": {},
   "outputs": [],
   "source": [
    "from math import log, ceil, sqrt, pi, exp, sin"
   ]
  },
  {
   "cell_type": "markdown",
   "metadata": {},
   "source": [
    "### Parámetros"
   ]
  },
  {
   "cell_type": "code",
   "execution_count": 15,
   "metadata": {},
   "outputs": [],
   "source": [
    "# Dados en el problema\n",
    "a = 0.0\n",
    "b = pi\n",
    "Re = 10**4\n",
    "\n",
    "# Definimos la función anterior\n",
    "def f(x):\n",
    "    return sin(x)*0.5*e**( -x/(2.0*pi) ) - 0.25 "
   ]
  },
  {
   "cell_type": "markdown",
   "metadata": {},
   "source": [
    "Ahora podemos verificar que la función cumple la segunda condición:"
   ]
  },
  {
   "cell_type": "code",
   "execution_count": 16,
   "metadata": {},
   "outputs": [
    {
     "ename": "NameError",
     "evalue": "name 'e' is not defined",
     "output_type": "error",
     "traceback": [
      "\u001b[0;31m---------------------------------------------------------------------------\u001b[0m",
      "\u001b[0;31mNameError\u001b[0m                                 Traceback (most recent call last)",
      "\u001b[0;32m<ipython-input-16-3a1b86438153>\u001b[0m in \u001b[0;36m<module>\u001b[0;34m\u001b[0m\n\u001b[0;32m----> 1\u001b[0;31m \u001b[0mprint\u001b[0m\u001b[0;34m(\u001b[0m\u001b[0mf\u001b[0m\u001b[0;34m(\u001b[0m\u001b[0ma\u001b[0m\u001b[0;34m)\u001b[0m\u001b[0;34m)\u001b[0m \u001b[0;31m# Extremo izquierdo del intervalo\u001b[0m\u001b[0;34m\u001b[0m\u001b[0;34m\u001b[0m\u001b[0m\n\u001b[0m\u001b[1;32m      2\u001b[0m \u001b[0mprint\u001b[0m\u001b[0;34m(\u001b[0m\u001b[0mf\u001b[0m\u001b[0;34m(\u001b[0m\u001b[0mb\u001b[0m\u001b[0;34m)\u001b[0m\u001b[0;34m)\u001b[0m \u001b[0;31m# Extremo derecho del intervalo\u001b[0m\u001b[0;34m\u001b[0m\u001b[0;34m\u001b[0m\u001b[0m\n",
      "\u001b[0;32m<ipython-input-15-331ce3c78776>\u001b[0m in \u001b[0;36mf\u001b[0;34m(x)\u001b[0m\n\u001b[1;32m      6\u001b[0m \u001b[0;31m# Definimos la función anterior\u001b[0m\u001b[0;34m\u001b[0m\u001b[0;34m\u001b[0m\u001b[0;34m\u001b[0m\u001b[0m\n\u001b[1;32m      7\u001b[0m \u001b[0;32mdef\u001b[0m \u001b[0mf\u001b[0m\u001b[0;34m(\u001b[0m\u001b[0mx\u001b[0m\u001b[0;34m)\u001b[0m\u001b[0;34m:\u001b[0m\u001b[0;34m\u001b[0m\u001b[0;34m\u001b[0m\u001b[0m\n\u001b[0;32m----> 8\u001b[0;31m     \u001b[0;32mreturn\u001b[0m \u001b[0msin\u001b[0m\u001b[0;34m(\u001b[0m\u001b[0mx\u001b[0m\u001b[0;34m)\u001b[0m\u001b[0;34m*\u001b[0m\u001b[0;36m0.5\u001b[0m\u001b[0;34m*\u001b[0m\u001b[0me\u001b[0m\u001b[0;34m**\u001b[0m\u001b[0;34m(\u001b[0m \u001b[0;34m-\u001b[0m\u001b[0mx\u001b[0m\u001b[0;34m/\u001b[0m\u001b[0;34m(\u001b[0m\u001b[0;36m2.0\u001b[0m\u001b[0;34m*\u001b[0m\u001b[0mpi\u001b[0m\u001b[0;34m)\u001b[0m \u001b[0;34m)\u001b[0m \u001b[0;34m-\u001b[0m \u001b[0;36m0.25\u001b[0m\u001b[0;34m\u001b[0m\u001b[0;34m\u001b[0m\u001b[0m\n\u001b[0m",
      "\u001b[0;31mNameError\u001b[0m: name 'e' is not defined"
     ]
    }
   ],
   "source": [
    "print(f(a)) # Extremo izquierdo del intervalo\n",
    "print(f(b)) # Extremo derecho del intervalo"
   ]
  },
  {
   "cell_type": "markdown",
   "metadata": {},
   "source": [
    "¿Qué habría pasado si una de estas condiciones no se hubiese cumplido? \n",
    "No podríamos garantizar la convergencia del método.\n",
    "\n",
    "Ahora vamos a aniquilar el $\\textbf{1.b.}$ y el $\\textbf{1.c.}$ de una sola vez: vamos a hacer que el algoritmo calcule el número de iteraciones, según la fórmula presentada en discusión, para alcanzar una tolerancia deseada."
   ]
  },
  {
   "cell_type": "code",
   "execution_count": 4,
   "metadata": {},
   "outputs": [],
   "source": [
    "'''\n",
    "f: función para la cual buscamos la raíz \n",
    "a: extremo izquierdo del intervalo\n",
    "b: extremo derecho del intervalo\n",
    "T: tolerancia \n",
    "'''\n",
    "\n",
    "def bisection(f, a, b, T):\n",
    "    n = ceil( log( (b - a)/T  , 2) ) #En esta línea estoy calculando el número de iteraciones necesarias\n",
    "    for i in range(0, n):\n",
    "        p = (a + b)/2\n",
    "        print(str(i) + \" \\t \" + str(a) + \" \\t \" + str(p) + \" \\t \" + str(b) + \" \\t \" + str(f(p)) )\n",
    "        if f(a)*f(p) < 0:\n",
    "            b = p\n",
    "        else:\n",
    "            a = p"
   ]
  },
  {
   "cell_type": "markdown",
   "metadata": {},
   "source": [
    "Ahora aplicamos el esquema anterior a la función $f$ que definimos arriba, pasándole una tolerancia de $10^{-6}$."
   ]
  },
  {
   "cell_type": "code",
   "execution_count": 5,
   "metadata": {},
   "outputs": [
    {
     "name": "stdout",
     "output_type": "stream",
     "text": [
      "0 \t 0.005 \t 0.0075 \t 0.01 \t -0.1777946013966467\n",
      "1 \t 0.0075 \t 0.00875 \t 0.01 \t 0.8128721973486073\n",
      "2 \t 0.0075 \t 0.008125 \t 0.00875 \t 0.344844013567263\n",
      "3 \t 0.0075 \t 0.0078125 \t 0.008125 \t 0.09101741864372848\n",
      "4 \t 0.0075 \t 0.00765625 \t 0.0078125 \t -0.041421866309180544\n",
      "5 \t 0.00765625 \t 0.007734375 \t 0.0078125 \t 0.025277253136721356\n",
      "6 \t 0.00765625 \t 0.0076953125 \t 0.007734375 \t -0.007950945331794301\n",
      "7 \t 0.0076953125 \t 0.00771484375 \t 0.007734375 \t 0.00869330567140203\n",
      "8 \t 0.0076953125 \t 0.0077050781250000006 \t 0.00771484375 \t 0.0003787415508345049\n",
      "9 \t 0.0076953125 \t 0.0077001953125 \t 0.0077050781250000006 \t -0.0037842086041166567\n",
      "10 \t 0.0077001953125 \t 0.00770263671875 \t 0.0077050781250000006 \t -0.001702260573193115\n",
      "11 \t 0.00770263671875 \t 0.007703857421875 \t 0.0077050781250000006 \t -0.0006616413187927606\n",
      "12 \t 0.007703857421875 \t 0.0077044677734375 \t 0.0077050781250000006 \t -0.0001414203416256754\n"
     ]
    }
   ],
   "source": [
    "bisection(f, a, b, 10**-6)"
   ]
  },
  {
   "cell_type": "markdown",
   "metadata": {},
   "source": [
    "Ese es un resultado bastante chueco: si queremos mejores resultados debemos poner una tolerancia más pequeña, lo que aumentará el número de iteraciones."
   ]
  },
  {
   "cell_type": "markdown",
   "metadata": {},
   "source": [
    "## Método de punto fijo"
   ]
  },
  {
   "cell_type": "markdown",
   "metadata": {},
   "source": [
    "$\\textbf{2.a.}$ Para encontrar la función $g$ deseada, debemos dejar la variable, $c_{f}$, sola en un lado de la ecuación. Luego de un poco de álgebra podemos llegar a \n",
    "\n",
    "$$ c_{f}  = \\frac{1}{(-0.4 + 1.74 \\ln (Re \\sqrt{c_{f}}) )^{2}}. $$ \n",
    "\n",
    "Vamos a definir $g(c_{f})$ igual al lado derecho\n",
    "\n",
    "$$ g(c_{f}) = \\frac{1}{(-0.4 + 1.74 \\ln (Re \\sqrt{c_{f}}) )^{2}} $$\n",
    "\n",
    "y vamos a rogar que esta función cumpla las condiciones necesarias para tener un esquema de punto fijo convergente. Primero definámosla:"
   ]
  },
  {
   "cell_type": "code",
   "execution_count": 6,
   "metadata": {},
   "outputs": [],
   "source": [
    "def g(x):\n",
    "    return 1/(1.74*log(Re*sqrt(x)) - 0.4)**2"
   ]
  },
  {
   "cell_type": "markdown",
   "metadata": {},
   "source": [
    "Verifiquemos condiciones:\n",
    "\n",
    "$\\textbf{Existencia. }$ En discusión les comenté que va a ser suficiente que verifiquen que $g(a) \\in [a, b]$ y $g(b) \\in [a, b]$. Veamos..."
   ]
  },
  {
   "cell_type": "code",
   "execution_count": 7,
   "metadata": {},
   "outputs": [
    {
     "name": "stdout",
     "output_type": "stream",
     "text": [
      "0.008239790707770357\n",
      "0.007406713638360005\n"
     ]
    }
   ],
   "source": [
    "print(g(a))\n",
    "print(g(b))"
   ]
  },
  {
   "cell_type": "markdown",
   "metadata": {},
   "source": [
    "Ambos valores están dentro del intervalo de interés, que es $[0.005, 0.01]$. Concluimos que existe un punto fijo.\n",
    "\n",
    "$\\textbf{Unicidad. }$ Al evaluar con la calculadora $\\texttt{fmax}( \\mid g'(x) \\mid, x, 0.005, 0.01)$ obtenemos que \n",
    "\n",
    "$$ \\max_{0.005 \\leq x \\leq 0.01} \\mid g'(x) \\mid = \\mid g'(0.005) \\mid = 0.260288 $$\n",
    "\n",
    "Esta es una constante positiva menor que $1$, por lo que concluimos que el punto fijo es único. Ahora programemos el esquema."
   ]
  },
  {
   "cell_type": "code",
   "execution_count": 8,
   "metadata": {},
   "outputs": [],
   "source": [
    "'''\n",
    "g: función para la cual buscamos el punto fijo \n",
    "a: extremo izquierdo del intervalo\n",
    "b: extremo derecho del intervalo\n",
    "p: aproximación inicial\n",
    "k: valor máximo del valor absoluto de la primera derivada en el intervalo\n",
    "T: tolerancia\n",
    "'''\n",
    "\n",
    "def fixedPoint(g, a, b, p, k, T):\n",
    "    #En la sig. línea estoy calculando el número de iteraciones necesarias :)\n",
    "    n = ceil( log( T/( max(b - p, p - a) ) , k))  \n",
    "    for i in range(0, n):\n",
    "        print(str(i) + \" \\t \" + str(p))\n",
    "        p = g(p)"
   ]
  },
  {
   "cell_type": "markdown",
   "metadata": {},
   "source": [
    "$\\textbf{2.b.}$ y $\\textbf{2.c.}$ Vamos a iterar usando como punto inicial el punto al medio del intervalo y una tolerancia de $10^{-6}$."
   ]
  },
  {
   "cell_type": "code",
   "execution_count": 9,
   "metadata": {},
   "outputs": [
    {
     "name": "stdout",
     "output_type": "stream",
     "text": [
      "0 \t 0.0075\n",
      "1 \t 0.007736407966250012\n",
      "2 \t 0.007699793076400809\n",
      "3 \t 0.007705373304155738\n",
      "4 \t 0.0077045207552921754\n",
      "5 \t 0.0077046509588405135\n"
     ]
    }
   ],
   "source": [
    "fixedPoint(g, a, b, (a + b)/2, 0.260288, 10**-6)"
   ]
  },
  {
   "cell_type": "markdown",
   "metadata": {},
   "source": [
    "Ahora una tolerancia de $10^{-9}$."
   ]
  },
  {
   "cell_type": "code",
   "execution_count": 10,
   "metadata": {},
   "outputs": [
    {
     "name": "stdout",
     "output_type": "stream",
     "text": [
      "0 \t 0.0075\n",
      "1 \t 0.007736407966250012\n",
      "2 \t 0.007699793076400809\n",
      "3 \t 0.007705373304155738\n",
      "4 \t 0.0077045207552921754\n",
      "5 \t 0.0077046509588405135\n",
      "6 \t 0.00770463107265981\n",
      "7 \t 0.007704634109878903\n",
      "8 \t 0.007704633646003393\n",
      "9 \t 0.007704633716851246\n",
      "10 \t 0.007704633706030629\n"
     ]
    }
   ],
   "source": [
    "fixedPoint(g, a, b, (a + b)/2, 0.260288,  10**-9)"
   ]
  },
  {
   "cell_type": "markdown",
   "metadata": {},
   "source": [
    "$\\textbf{3.a.}$ En este ejercicio nos piden aproximar las raíces de $f(x) = x^{3} - 3x + 1$ y nos dan dos funciones posibles para iterar con punto fijo:\n",
    "\n",
    "$$ g_{1}(x) = \\frac{1}{3} ( x^{3} + 1 )$$\n",
    "\n",
    "$$ g_{2}(x) = \\frac{3}{2} x -  \\frac{1}{6}( x^{3} + 1 ) $$\n",
    "\n",
    "Vamos a ir función por función, intervalo por intervalo verificando que se cumplan las condiciones."
   ]
  },
  {
   "cell_type": "code",
   "execution_count": 11,
   "metadata": {},
   "outputs": [],
   "source": [
    "def g1(x):\n",
    "    return (1/3)*(x**3 + 1)\n",
    "\n",
    "def g2(x):\n",
    "    return (3/2)*x - (1/6)*(x**3 + 1)"
   ]
  },
  {
   "cell_type": "markdown",
   "metadata": {},
   "source": [
    "$\\textbf{I. }$ Probando $g_{1}$ en $[-2, -1.5]$:\n",
    "\n",
    "$\\textbf{Existencia. }$"
   ]
  },
  {
   "cell_type": "code",
   "execution_count": 12,
   "metadata": {},
   "outputs": [
    {
     "name": "stdout",
     "output_type": "stream",
     "text": [
      "-2.333333333333333\n",
      "-0.7916666666666666\n"
     ]
    }
   ],
   "source": [
    "print(g1(-2))\n",
    "print(g1(-1.5))"
   ]
  },
  {
   "cell_type": "markdown",
   "metadata": {},
   "source": [
    "Esta función falló al primer test: no cumple la condición de existencia. Por tanto, no se puede utilizar para aproximar la raíz en $[-2, -1.5]$."
   ]
  },
  {
   "cell_type": "markdown",
   "metadata": {},
   "source": [
    "$\\textbf{II. }$ Probando $g_{1}$ en $[0, 0.5]$:"
   ]
  },
  {
   "cell_type": "markdown",
   "metadata": {},
   "source": [
    "$\\textbf{Existencia. }$"
   ]
  },
  {
   "cell_type": "code",
   "execution_count": 13,
   "metadata": {},
   "outputs": [
    {
     "name": "stdout",
     "output_type": "stream",
     "text": [
      "0.3333333333333333\n",
      "0.375\n"
     ]
    }
   ],
   "source": [
    "print(g1(0))\n",
    "print(g1(0.5))"
   ]
  },
  {
   "cell_type": "markdown",
   "metadata": {},
   "source": [
    "En este intervalo la función sí pasó la prueba de existencia. Ahora vamos a ver unicidad.\n",
    "\n",
    "$\\textbf{Unicidad. }$  Al evaluar con la calculadora $\\texttt{fmax}( \\mid g_{1} '(x) \\mid, x, 0, 0.5)$ obtenemos que \n",
    "\n",
    "$$ \\max_{0 \\leq x \\leq 0.5} \\mid g_{1} '(x) \\mid = \\mid g_{1} '(0.5) \\mid = 0.25 $$\n",
    "\n",
    "Esta es una constante positiva menor que $1$, por lo que concluimos que el punto fijo es único. En conclusión, $g_{1}$ sí se puede usar para aproximar la raíz en este intervalo."
   ]
  },
  {
   "cell_type": "markdown",
   "metadata": {},
   "source": [
    "$\\textbf{III. }$ Probando $g_{1}$ en $[1.5, 2]$:\n",
    "\n",
    "$\\textbf{Existencia. }$ "
   ]
  },
  {
   "cell_type": "code",
   "execution_count": 14,
   "metadata": {},
   "outputs": [
    {
     "name": "stdout",
     "output_type": "stream",
     "text": [
      "1.4583333333333333\n",
      "3.0\n"
     ]
    }
   ],
   "source": [
    "print(g1(1.5))\n",
    "print(g1(2))"
   ]
  },
  {
   "cell_type": "markdown",
   "metadata": {},
   "source": [
    "Otra vez la función no pasó el primer test en el intervalo. Concluimos que no se puede usar para aproximar la raíz que se encuentra en el intervalo. \n",
    "\n",
    "Si repetimos este proceso con la función $g_{2}$ vamos a descubrir que se puede usar para aproximar las raíces en $[-2, -1.5]$ y $[1.5, 2]$, y que en ambos intervalos el valor de $k$ es $0.5$."
   ]
  },
  {
   "cell_type": "markdown",
   "metadata": {},
   "source": [
    "Realizamos las iteraciones para la raíz en $[-2, -1.5]$:"
   ]
  },
  {
   "cell_type": "code",
   "execution_count": 15,
   "metadata": {},
   "outputs": [
    {
     "name": "stdout",
     "output_type": "stream",
     "text": [
      "0 \t -1.75\n",
      "1 \t -1.8984375\n",
      "2 \t -1.8739742437998455\n",
      "3 \t -1.8807973207021025\n",
      "4 \t -1.8790076915801688\n",
      "5 \t -1.8794855527105225\n",
      "6 \t -1.8793585448951209\n",
      "7 \t -1.8793923434045738\n",
      "8 \t -1.8793833521212817\n",
      "9 \t -1.8793857442462774\n",
      "10 \t -1.8793851078378325\n",
      "11 \t -1.8793852771509836\n",
      "12 \t -1.8793852321061757\n",
      "13 \t -1.8793852440900982\n",
      "14 \t -1.879385240901842\n",
      "15 \t -1.87938524175006\n",
      "16 \t -1.8793852415243961\n",
      "17 \t -1.879385241584433\n"
     ]
    }
   ],
   "source": [
    "fixedPoint(g2, -2, -1.5, (-2 - 1.5)/2, 0.5, 10**-6)"
   ]
  },
  {
   "cell_type": "markdown",
   "metadata": {},
   "source": [
    "Ahora para la raíz en $[0, 0.5]$:"
   ]
  },
  {
   "cell_type": "code",
   "execution_count": 16,
   "metadata": {},
   "outputs": [
    {
     "name": "stdout",
     "output_type": "stream",
     "text": [
      "0 \t 0.25\n",
      "1 \t 0.33854166666666663\n",
      "2 \t 0.34626680538978105\n",
      "3 \t 0.34717254417709065\n",
      "4 \t 0.3472814272042397\n",
      "5 \t 0.34729455485850624\n",
      "6 \t 0.3472961381710866\n",
      "7 \t 0.3472963291408415\n",
      "8 \t 0.34729635217459626\n"
     ]
    }
   ],
   "source": [
    "fixedPoint(g1, 0, 0.5, 0.5/2, 0.25, 10**-6)"
   ]
  },
  {
   "cell_type": "markdown",
   "metadata": {},
   "source": [
    "Y finalmente, la raíz en $[1.5, 2]$:"
   ]
  },
  {
   "cell_type": "code",
   "execution_count": 17,
   "metadata": {},
   "outputs": [
    {
     "name": "stdout",
     "output_type": "stream",
     "text": [
      "0 \t 1.75\n",
      "1 \t 1.5651041666666667\n",
      "2 \t 1.5420224902070598\n",
      "3 \t 1.5352549820515924\n",
      "4 \t 1.533114463132707\n",
      "5 \t 1.5324227792150675\n",
      "6 \t 1.5321977674111993\n",
      "7 \t 1.5321244107255056\n",
      "8 \t 1.5321004787524581\n",
      "9 \t 1.532092669373243\n",
      "10 \t 1.5320901208600872\n",
      "11 \t 1.532089289157971\n",
      "12 \t 1.5320890177315127\n",
      "13 \t 1.5320889291511044\n",
      "14 \t 1.532088900242739\n",
      "15 \t 1.5320888908084425\n",
      "16 \t 1.5320888877295429\n",
      "17 \t 1.5320888867247382\n"
     ]
    }
   ],
   "source": [
    "fixedPoint(g2, 1.5, 2, (1.5 + 2)/2, 0.5, 10**-6)"
   ]
  }
 ],
 "metadata": {
  "kernelspec": {
   "display_name": "Python 3",
   "language": "python",
   "name": "python3"
  },
  "language_info": {
   "codemirror_mode": {
    "name": "ipython",
    "version": 3
   },
   "file_extension": ".py",
   "mimetype": "text/x-python",
   "name": "python",
   "nbconvert_exporter": "python",
   "pygments_lexer": "ipython3",
   "version": "3.7.3"
  }
 },
 "nbformat": 4,
 "nbformat_minor": 2
}
